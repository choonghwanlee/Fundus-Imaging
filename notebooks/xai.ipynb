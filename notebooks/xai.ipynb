{
 "cells": [
  {
   "cell_type": "code",
   "execution_count": 1,
   "metadata": {},
   "outputs": [],
   "source": [
    "from google.cloud import storage\n",
    "import os\n",
    "from io import StringIO, BytesIO\n",
    "import numpy as np\n",
    "from PIL import Image\n",
    "import cv2\n",
    "from matplotlib import pyplot as plt\n",
    "from skimage.feature import graycomatrix, graycoprops\n",
    "from sklearn.model_selection import train_test_split\n"
   ]
  },
  {
   "cell_type": "code",
   "execution_count": 2,
   "metadata": {},
   "outputs": [],
   "source": [
    "client = storage.Client(project='AIPI540')\n",
    "bucket = client.get_bucket('aipi540-cv')"
   ]
  },
  {
   "cell_type": "code",
   "execution_count": 125,
   "metadata": {},
   "outputs": [],
   "source": [
    "from google.cloud import storage\n",
    "import os\n",
    "import pandas as pd\n",
    "\n",
    "import torch\n",
    "import torch.nn as nn\n",
    "import numpy as np\n",
    "import matplotlib.pyplot as plt\n",
    "from torchvision import models, transforms\n",
    "from skimage.segmentation import slic\n",
    "from PIL import Image\n",
    "import io\n",
    "from pytorch_grad_cam import GradCAM\n",
    "from pytorch_grad_cam.utils.model_targets import ClassifierOutputTarget\n",
    "from pytorch_grad_cam.utils.image import show_cam_on_image\n",
    "from PIL.Image import Resampling\n",
    "import tifffile"
   ]
  },
  {
   "cell_type": "code",
   "execution_count": 74,
   "metadata": {},
   "outputs": [
    {
     "name": "stderr",
     "output_type": "stream",
     "text": [
      "/Users/choonghwanlee/Fundus-Imaging/env/lib/python3.12/site-packages/torchvision/models/_utils.py:208: UserWarning: The parameter 'pretrained' is deprecated since 0.13 and may be removed in the future, please use 'weights' instead.\n",
      "  warnings.warn(\n",
      "/Users/choonghwanlee/Fundus-Imaging/env/lib/python3.12/site-packages/torchvision/models/_utils.py:223: UserWarning: Arguments other than a weight enum or `None` for 'weights' are deprecated since 0.13 and may be removed in the future. The current behavior is equivalent to passing `weights=None`.\n",
      "  warnings.warn(msg)\n"
     ]
    },
    {
     "data": {
      "text/plain": [
       "VGG(\n",
       "  (features): Sequential(\n",
       "    (0): Conv2d(3, 64, kernel_size=(3, 3), stride=(1, 1), padding=(1, 1))\n",
       "    (1): ReLU(inplace=True)\n",
       "    (2): Conv2d(64, 64, kernel_size=(3, 3), stride=(1, 1), padding=(1, 1))\n",
       "    (3): ReLU(inplace=True)\n",
       "    (4): MaxPool2d(kernel_size=2, stride=2, padding=0, dilation=1, ceil_mode=False)\n",
       "    (5): Conv2d(64, 128, kernel_size=(3, 3), stride=(1, 1), padding=(1, 1))\n",
       "    (6): ReLU(inplace=True)\n",
       "    (7): Conv2d(128, 128, kernel_size=(3, 3), stride=(1, 1), padding=(1, 1))\n",
       "    (8): ReLU(inplace=True)\n",
       "    (9): MaxPool2d(kernel_size=2, stride=2, padding=0, dilation=1, ceil_mode=False)\n",
       "    (10): Conv2d(128, 256, kernel_size=(3, 3), stride=(1, 1), padding=(1, 1))\n",
       "    (11): ReLU(inplace=True)\n",
       "    (12): Conv2d(256, 256, kernel_size=(3, 3), stride=(1, 1), padding=(1, 1))\n",
       "    (13): ReLU(inplace=True)\n",
       "    (14): Conv2d(256, 256, kernel_size=(3, 3), stride=(1, 1), padding=(1, 1))\n",
       "    (15): ReLU(inplace=True)\n",
       "    (16): MaxPool2d(kernel_size=2, stride=2, padding=0, dilation=1, ceil_mode=False)\n",
       "    (17): Conv2d(256, 512, kernel_size=(3, 3), stride=(1, 1), padding=(1, 1))\n",
       "    (18): ReLU(inplace=True)\n",
       "    (19): Conv2d(512, 512, kernel_size=(3, 3), stride=(1, 1), padding=(1, 1))\n",
       "    (20): ReLU(inplace=True)\n",
       "    (21): Conv2d(512, 512, kernel_size=(3, 3), stride=(1, 1), padding=(1, 1))\n",
       "    (22): ReLU(inplace=True)\n",
       "    (23): MaxPool2d(kernel_size=2, stride=2, padding=0, dilation=1, ceil_mode=False)\n",
       "    (24): Conv2d(512, 512, kernel_size=(3, 3), stride=(1, 1), padding=(1, 1))\n",
       "    (25): ReLU(inplace=True)\n",
       "    (26): Conv2d(512, 512, kernel_size=(3, 3), stride=(1, 1), padding=(1, 1))\n",
       "    (27): ReLU(inplace=True)\n",
       "    (28): Conv2d(512, 512, kernel_size=(3, 3), stride=(1, 1), padding=(1, 1))\n",
       "    (29): ReLU(inplace=True)\n",
       "    (30): MaxPool2d(kernel_size=2, stride=2, padding=0, dilation=1, ceil_mode=False)\n",
       "  )\n",
       "  (avgpool): AdaptiveAvgPool2d(output_size=(7, 7))\n",
       "  (classifier): Sequential(\n",
       "    (0): Linear(in_features=25088, out_features=4096, bias=True)\n",
       "    (1): ReLU(inplace=True)\n",
       "    (2): Dropout(p=0.5, inplace=False)\n",
       "    (3): Linear(in_features=4096, out_features=4096, bias=True)\n",
       "    (4): ReLU(inplace=True)\n",
       "    (5): Dropout(p=0.5, inplace=False)\n",
       "    (6): Sequential(\n",
       "      (0): Linear(in_features=4096, out_features=512, bias=True)\n",
       "      (1): BatchNorm1d(512, eps=1e-05, momentum=0.1, affine=True, track_running_stats=True)\n",
       "      (2): ReLU()\n",
       "      (3): Dropout(p=0.5, inplace=False)\n",
       "      (4): Linear(in_features=512, out_features=3, bias=True)\n",
       "    )\n",
       "  )\n",
       ")"
      ]
     },
     "execution_count": 74,
     "metadata": {},
     "output_type": "execute_result"
    }
   ],
   "source": [
    "# Load the pre-trained VGG model\n",
    "vgg_model = models.vgg16(pretrained=False)\n",
    "vgg_model.classifier[6] = nn.Sequential(\n",
    "    nn.Linear(vgg_model.classifier[6].in_features, 512),\n",
    "    nn.BatchNorm1d(512),\n",
    "    nn.ReLU(),\n",
    "    nn.Dropout(0.5),\n",
    "    nn.Linear(512,3)\n",
    ") \n",
    "vgg_model.load_state_dict(torch.load('vgg16_model.pth', map_location='cpu'))\n",
    "vgg_model.eval()\n"
   ]
  },
  {
   "cell_type": "code",
   "execution_count": 75,
   "metadata": {},
   "outputs": [
    {
     "data": {
      "text/plain": [
       "Sequential(\n",
       "  (0): Linear(in_features=25088, out_features=4096, bias=True)\n",
       "  (1): ReLU(inplace=True)\n",
       "  (2): Dropout(p=0.5, inplace=False)\n",
       "  (3): Linear(in_features=4096, out_features=4096, bias=True)\n",
       "  (4): ReLU(inplace=True)\n",
       "  (5): Dropout(p=0.5, inplace=False)\n",
       "  (6): Sequential(\n",
       "    (0): Linear(in_features=4096, out_features=512, bias=True)\n",
       "    (1): BatchNorm1d(512, eps=1e-05, momentum=0.1, affine=True, track_running_stats=True)\n",
       "    (2): ReLU()\n",
       "    (3): Dropout(p=0.5, inplace=False)\n",
       "    (4): Linear(in_features=512, out_features=3, bias=True)\n",
       "  )\n",
       ")"
      ]
     },
     "execution_count": 75,
     "metadata": {},
     "output_type": "execute_result"
    }
   ],
   "source": [
    "vgg_model.classifier"
   ]
  },
  {
   "cell_type": "code",
   "execution_count": 76,
   "metadata": {},
   "outputs": [],
   "source": [
    "target_layers = [vgg_model.features[-1]]\n",
    "\n",
    "cam = GradCAM(model=vgg_model, target_layers=target_layers)"
   ]
  },
  {
   "cell_type": "code",
   "execution_count": 77,
   "metadata": {},
   "outputs": [],
   "source": [
    "def preprocess_image(image):\n",
    "    transform = transforms.Compose([ \n",
    "        transforms.Resize((224, 224)),\n",
    "        transforms.ToTensor(),\n",
    "        transforms.Normalize(mean=[0.3205, 0.2244,0.1613], std=[0.2996, 0.2158, 0.1711])])\n",
    "    return transform(image)\n",
    "    "
   ]
  },
  {
   "cell_type": "code",
   "execution_count": 96,
   "metadata": {},
   "outputs": [],
   "source": [
    "input_tensor = preprocess_image(original_image_array).unsqueeze(0)"
   ]
  },
  {
   "cell_type": "code",
   "execution_count": 79,
   "metadata": {},
   "outputs": [],
   "source": [
    "# Make prediction\n",
    "with torch.no_grad():  # Disable gradient calculation for inference\n",
    "    output = vgg_model(input_tensor)\n"
   ]
  },
  {
   "cell_type": "code",
   "execution_count": 83,
   "metadata": {},
   "outputs": [],
   "source": [
    "probabilities = torch.nn.functional.softmax(output, dim=1)\n",
    "_, predicted_class = torch.max(probabilities, 1)\n"
   ]
  },
  {
   "cell_type": "code",
   "execution_count": 108,
   "metadata": {},
   "outputs": [],
   "source": [
    "heatmap = cam(input_tensor = input_tensor, targets = [ClassifierOutputTarget(1), ClassifierOutputTarget(2)])"
   ]
  },
  {
   "cell_type": "code",
   "execution_count": 130,
   "metadata": {},
   "outputs": [],
   "source": [
    "def compute_iou(mask1: np.ndarray, mask2: np.ndarray) -> float:\n",
    "    # Ensure the inputs are binary masks\n",
    "    mask1 = mask1.astype(bool)\n",
    "    mask2 = mask2.astype(bool)\n",
    "\n",
    "    # Compute intersection and union\n",
    "    intersection = np.logical_and(mask1, mask2).sum()\n",
    "    union = np.logical_or(mask1, mask2).sum()\n",
    "\n",
    "    # Handle edge case for empty union\n",
    "    if union == 0:\n",
    "        return 1.0 if intersection == 0 else 0.0\n",
    "\n",
    "    return intersection / union"
   ]
  },
  {
   "cell_type": "code",
   "execution_count": 150,
   "metadata": {},
   "outputs": [
    {
     "ename": "SyntaxError",
     "evalue": "invalid syntax (521701778.py, line 53)",
     "output_type": "error",
     "traceback": [
      "\u001b[0;36m  Cell \u001b[0;32mIn[155], line 53\u001b[0;36m\u001b[0m\n\u001b[0;31m    np.squeeze(heatmap)heatmap = cam(input_tensor = input_tensor, targets = None)\u001b[0m\n\u001b[0m                       ^\u001b[0m\n\u001b[0;31mSyntaxError\u001b[0m\u001b[0;31m:\u001b[0m invalid syntax\n"
     ]
    }
   ],
   "source": [
    "base_path = \"segmentation/all_segmentation_groundtruths/\"\n",
    "original_images_path = \"segmentation/original_images/\"\n",
    "dataset_sets = [\"training_set\", \"testing_set\"]\n",
    "\n",
    "def list_files_in_gcs_directory(prefix):\n",
    "    \"\"\"List all files in a given GCS directory prefix.\"\"\"\n",
    "    blobs = client.list_blobs('aipi540-cv', prefix=prefix)\n",
    "    return [blob.name for blob in blobs if not blob.name.endswith(\"/\")]\n",
    "\n",
    "def load_image_from_gcs(file_path):\n",
    "    \"\"\"Load an image from GCS and return as a numpy array.\"\"\"\n",
    "    blob = bucket.blob(file_path)\n",
    "    img_data = blob.download_as_bytes()\n",
    "    image = Image.open(io.BytesIO(img_data)).resize((224,224), resample= Resampling.NEAREST)\n",
    "    return image\n",
    "\n",
    "\n",
    "# Function to overlay segmentations into a single channel numpy array\n",
    "def overlay_segmentations(image_id, set):\n",
    "    # Initialize a blank numpy array to store all segmentations combined in the same channel\n",
    "    combined_segmentation = np.zeros((224,224), dtype=np.uint8)  # Assuming each image is 224x224\n",
    "\n",
    "    segmentation_types = [\"haemorrhages\", 'hard_exudates', 'microaneurysms', 'soft_exudates']\n",
    "    segmentation_ext = [\"HE\", \"EX\", \"MA\", \"SE\"]  # Example segmentation types: hard exudates (HE), microaneurysms (MA), optic disc (OD), etc.\n",
    "    \n",
    "    for seg_type, seg_ext in zip(segmentation_types, segmentation_ext):\n",
    "        # Path to the segmentation file, e.g., IDRiD_55_HE.tif\n",
    "        segmentation_path = os.path.join(base_path, set, seg_type, f\"{image_id}_{seg_ext}.tif\")\n",
    "        blob = bucket.blob(segmentation_path)\n",
    "        if blob.exists():\n",
    "            seg_data = blob.download_as_bytes()\n",
    "            # Load the segmentation .tif file\n",
    "            try: \n",
    "                segmentation = tifffile.imread(io.BytesIO(seg_data))\n",
    "                segmentation_resized = cv2.resize(segmentation.astype('uint8'), (224, 224), interpolation=cv2.INTER_NEAREST)\n",
    "                # Add the segmentation to the combined array in the same channel\n",
    "                combined_segmentation += segmentation_resized\n",
    "            except ValueError:\n",
    "                continue \n",
    "    return combined_segmentation  # Return the combined segmentation array\n",
    "\n",
    "iou_scores = []\n",
    "for dataset_set in dataset_sets:\n",
    "    image_files = list_files_in_gcs_directory(f\"{original_images_path}{dataset_set}/\")\n",
    "    for file_path in image_files:\n",
    "        if file_path.endswith(\".jpg\"):\n",
    "            image_id = file_path.split(\"/\")[-1].split(\".\")[0]\n",
    "            print(f\"Processing {image_id} in {dataset_set}\")\n",
    "            original_image_array = load_image_from_gcs(file_path)\n",
    "            combined_segmentation = overlay_segmentations(image_id, dataset_set)\n",
    "            # Example visualization (optional)\n",
    "            input_tensor = preprocess_image(original_image_array).unsqueeze(0)\n",
    "            heatmap = cam(input_tensor = input_tensor, targets = None)\n",
    "            percentile_threshold = np.percentile(heatmap, 90)  # Top 10%\n",
    "            binary_cam = (heatmap >= percentile_threshold).astype(np.uint8)\n",
    "            iou_score = compute_iou(combined_segmentation, np.squeeze(binary_cam))\n",
    "            iou_scores.append(iou_score)\n",
    "            break\n"
   ]
  },
  {
   "cell_type": "code",
   "execution_count": 151,
   "metadata": {},
   "outputs": [
    {
     "data": {
      "text/plain": [
       "<matplotlib.image.AxesImage at 0x1669bbd10>"
      ]
     },
     "execution_count": 151,
     "metadata": {},
     "output_type": "execute_result"
    },
    {
     "data": {
      "image/png": "[encoded data removed]",
      "text/plain": [
       "<Figure size 640x480 with 1 Axes>"
      ]
     },
     "metadata": {},
     "output_type": "display_data"
    }
   ],
   "source": [
    "plt.imshow(np.squeeze(heatmap))"
   ]
  },
  {
   "cell_type": "code",
   "execution_count": 141,
   "metadata": {},
   "outputs": [
    {
     "data": {
      "text/plain": [
       "np.float64(0.03336705107046943)"
      ]
     },
     "execution_count": 141,
     "metadata": {},
     "output_type": "execute_result"
    }
   ],
   "source": [
    "sum(iou_scores)/len(iou_scores)"
   ]
  }
 ],
 "metadata": {
  "kernelspec": {
   "display_name": "Python 3",
   "language": "python",
   "name": "python3"
  },
  "language_info": {
   "codemirror_mode": {
    "name": "ipython",
    "version": 3
   },
   "file_extension": ".py",
   "mimetype": "text/x-python",
   "name": "python",
   "nbconvert_exporter": "python",
   "pygments_lexer": "ipython3",
   "version": "3.9.6"
  }
 },
 "nbformat": 4,
 "nbformat_minor": 2
}
